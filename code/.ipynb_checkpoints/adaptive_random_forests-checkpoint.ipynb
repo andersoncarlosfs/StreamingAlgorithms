{
 "cells": [
  {
   "cell_type": "code",
   "execution_count": null,
   "metadata": {
    "collapsed": true
   },
   "outputs": [],
   "source": []
  },
  {
   "cell_type": "code",
   "execution_count": null,
   "metadata": {
    "collapsed": true
   },
   "outputs": [],
   "source": [
    "__author__ = 'Anderson Carlos Ferreira da Silva'\n",
    "\n",
    "import sys\n",
    "import logging\n",
    "from operator import attrgetter\n",
    "from skmultiflow.core.utils.utils import *\n",
    "from skmultiflow.classification.base import BaseClassifier\n",
    "from skmultiflow.classification.trees.hoeffding_tree import HoeffdingTree\n",
    "\n",
    "class ADFHoeffdingTree(BaseClassifier):\n",
    "    \n",
    "        \n",
    "    class RandomLearningNode(LearningNode):\n",
    "        \n",
    "        def __init__(self, initial_class_observations, nb_attributes):\n",
    "            super().__init__(initial_class_observations)\n",
    "            self.nb_attributes = nb_attributes;\n",
    "            \n",
    "        def\n",
    "    \n",
    "    def __init__(self):    \n",
    "         \"\"\"ADFHoeffdingTree class constructor.\"\"\"\n",
    "        super().__init__()        \n",
    "        self.nb_threshold = nb_threshold\n",
    "        self.nominal_attributes = nominal_attributes            \n",
    "\n",
    "    def fit(self, X, y):\n",
    "        raise NotImplementedError\n",
    "\n",
    "    def partial_fit(self, X, y):\n",
    "        \"\"\"Incrementally trains the model. Train samples (instances) are compossed of X attributes and their\n",
    "        corresponding targets y.\n",
    "        Parameters\n",
    "        ----------\n",
    "        X: numpy.ndarray of shape (n_samples, n_features)\n",
    "            Instance attributes.\n",
    "        y: array_like\n",
    "            Classes (targets) for all samples in X.\n",
    "        classes: Not used.\n",
    "        \"\"\"\n",
    "        if y is not None:\n",
    "            r, _ = get_dimensions(X)\n",
    "            for i in range(r):\n",
    "                raise NotImplementedError\n",
    "    \n",
    "    def predict(self, X):\n",
    "        \"\"\"Predicts the label of the X instance(s)\n",
    "        Parameters\n",
    "        ----------\n",
    "        X: numpy.ndarray of shape (n_samples, n_features)\n",
    "            Samples for which we want to predict the labels.\n",
    "        Returns\n",
    "        -------\n",
    "        list\n",
    "            Predicted labels for all instances in X.\n",
    "        \"\"\"\n",
    "        r, _ = get_dimensions(X)\n",
    "        predictions = []\n",
    "        for i in range(r):\n",
    "            raise NotImplementedError\n",
    "        return predictions\n",
    "\n",
    "    def predict_proba(self, X):\n",
    "        raise NotImplementedError"
   ]
  }
 ],
 "metadata": {
  "kernelspec": {
   "display_name": "Python 3",
   "language": "python",
   "name": "python3"
  },
  "language_info": {
   "codemirror_mode": {
    "name": "ipython",
    "version": 3
   },
   "file_extension": ".py",
   "mimetype": "text/x-python",
   "name": "python",
   "nbconvert_exporter": "python",
   "pygments_lexer": "ipython3",
   "version": "3.5.3"
  }
 },
 "nbformat": 4,
 "nbformat_minor": 2
}
