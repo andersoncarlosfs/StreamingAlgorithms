{
 "cells": [
  {
   "cell_type": "markdown",
   "metadata": {
    "collapsed": true
   },
   "source": [
    "https://github.com/Waikato/moa/blob/f5cdc1051a7247bb61702131aec3e62b40aa82f8/moa/src/main/java/moa/classifiers/trees/ARFHoeffdingTree.java"
   ]
  },
  {
   "cell_type": "markdown",
   "metadata": {},
   "source": [
    "https://github.com/scikit-multiflow/scikit-multiflow/blob/17327dc81b7d6e35d533795ae13493ad08118708/skmultiflow/classification/trees/hoeffding_tree.py"
   ]
  },
  {
   "cell_type": "code",
   "execution_count": null,
   "metadata": {
    "collapsed": true
   },
   "outputs": [],
   "source": [
    "__author__ = 'Anderson Carlos Ferreira da Silva'\n",
    "\n",
    "import sys\n",
    "import logging\n",
    "from operator import attrgetter\n",
    "from skmultiflow.core.utils.utils import *\n",
    "from skmultiflow.classification.base import BaseClassifier\n",
    "from skmultiflow.classification.trees.hoeffding_tree import HoeffdingTree\n",
    "\n",
    "class ADFHoeffdingTree(BaseClassifier):\n",
    "    \n",
    "        \n",
    "    class RandomLearningNode(LearningNode):\n",
    "        \n",
    "        def __init__(self, initial_class_observations, nb_attributes):\n",
    "            super().__init__(initial_class_observations)\n",
    "            self.nb_attributes = nb_attributes;\n",
    "            \n",
    "        def learn_from_instance(self, X, y, ht):\n",
    "            self._observed_class_distribution.append()\n",
    " this.observedClassDistribution.addToValue((int) inst.classValue(),\n",
    "                    inst.weight());\n",
    "            if (this.listAttributes == null) {\n",
    "                this.listAttributes = new int[this.numAttributes];\n",
    "                for (int j = 0; j < this.numAttributes; j++) {\n",
    "                    boolean isUnique = false;\n",
    "                    while (isUnique == false) {\n",
    "                        this.listAttributes[j] = ht.classifierRandom.nextInt(inst.numAttributes() - 1);\n",
    "                        isUnique = true;\n",
    "                        for (int i = 0; i < j; i++) {\n",
    "                            if (this.listAttributes[j] == this.listAttributes[i]) {\n",
    "                                isUnique = false;\n",
    "                                break;\n",
    "                            }\n",
    "                        }\n",
    "                    }\n",
    "\n",
    "                }\n",
    "            }\n",
    "            for (int j = 0; j < this.numAttributes - 1; j++) {\n",
    "                int i = this.listAttributes[j];\n",
    "                int instAttIndex = modelAttIndexToInstanceAttIndex(i, inst);\n",
    "                AttributeClassObserver obs = this.attributeObservers.get(i);\n",
    "                if (obs == null) {\n",
    "                    obs = inst.attribute(instAttIndex).isNominal() ? ht.newNominalClassObserver() : ht.newNumericClassObserver();\n",
    "                    this.attributeObservers.set(i, obs);\n",
    "                }\n",
    "                obs.observeAttributeClass(inst.value(instAttIndex), (int) inst.classValue(), inst.weight());\n",
    "}\n",
    "            \n",
    "            \n",
    "    \n",
    "    def __init__(self):    \n",
    "         \"\"\"ADFHoeffdingTree class constructor.\"\"\"\n",
    "        super().__init__()        \n",
    "        self.nb_threshold = nb_threshold\n",
    "        self.nominal_attributes = nominal_attributes            \n",
    "\n",
    "    def fit(self, X, y):\n",
    "        raise NotImplementedError\n",
    "\n",
    "    def partial_fit(self, X, y):\n",
    "        \"\"\"Incrementally trains the model. Train samples (instances) are compossed of X attributes and their\n",
    "        corresponding targets y.\n",
    "        Parameters\n",
    "        ----------\n",
    "        X: numpy.ndarray of shape (n_samples, n_features)\n",
    "            Instance attributes.\n",
    "        y: array_like\n",
    "            Classes (targets) for all samples in X.\n",
    "        classes: Not used.\n",
    "        \"\"\"\n",
    "        if y is not None:\n",
    "            r, _ = get_dimensions(X)\n",
    "            for i in range(r):\n",
    "                raise NotImplementedError\n",
    "    \n",
    "    def predict(self, X):\n",
    "        \"\"\"Predicts the label of the X instance(s)\n",
    "        Parameters\n",
    "        ----------\n",
    "        X: numpy.ndarray of shape (n_samples, n_features)\n",
    "            Samples for which we want to predict the labels.\n",
    "        Returns\n",
    "        -------\n",
    "        list\n",
    "            Predicted labels for all instances in X.\n",
    "        \"\"\"\n",
    "        r, _ = get_dimensions(X)\n",
    "        predictions = []\n",
    "        for i in range(r):\n",
    "            raise NotImplementedError\n",
    "        return predictions\n",
    "\n",
    "    def predict_proba(self, X):\n",
    "        raise NotImplementedError"
   ]
  }
 ],
 "metadata": {
  "kernelspec": {
   "display_name": "Python 3",
   "language": "python",
   "name": "python3"
  },
  "language_info": {
   "codemirror_mode": {
    "name": "ipython",
    "version": 3
   },
   "file_extension": ".py",
   "mimetype": "text/x-python",
   "name": "python",
   "nbconvert_exporter": "python",
   "pygments_lexer": "ipython3",
   "version": "3.5.3"
  }
 },
 "nbformat": 4,
 "nbformat_minor": 2
}
