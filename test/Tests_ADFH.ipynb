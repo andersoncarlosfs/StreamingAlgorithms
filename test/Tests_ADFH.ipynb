{
 "cells": [
  {
   "cell_type": "code",
   "execution_count": 1,
   "metadata": {},
   "outputs": [],
   "source": [
    "__author__ = 'Anderson Carlos Ferreira da Silva'\n",
    "\n",
    "import sys\n",
    "import logging\n",
    "from operator import attrgetter\n",
    "from skmultiflow.core.utils.utils import *\n",
    "from skmultiflow.classification.base import BaseClassifier\n",
    "from skmultiflow.classification.trees.hoeffding_tree import HoeffdingTree\n",
    "from random import randint\n",
    "\n",
    "FEATURES_M = ''\n",
    "FEATURES_SQRT = 'sqrt'\n",
    "FEATURES_SQRT_INV = 'sqrt_inv'\n",
    "FEATURES_PERCENT = 'percent'\n",
    "\n",
    "class ADFHoeffdingTree(HoeffdingTree):\n",
    "            \n",
    "    class RandomLearningNode(HoeffdingTree.ActiveLearningNode):                    \n",
    "        \"\"\"Random learning node.\n",
    "        Parameters\n",
    "        ----------\n",
    "        initial_class_observations: dict (class_value, weight) or None\n",
    "            Initial class observations\n",
    "        \"\"\"\n",
    "        def __init__(self, initial_class_observations, nb_attributes):\n",
    "            super().__init__(initial_class_observations)\n",
    "            self.nb_attributes = nb_attributes;\n",
    "            self.list_attributes = None\n",
    "            \n",
    "        def learn_from_instance(self, X, y, weight, ht):\n",
    "            \"\"\"Update the node with the provided instance.\n",
    "            Parameters\n",
    "            ----------\n",
    "            X: numpy.ndarray of length equal to the number of features.\n",
    "                Instance attributes for updating the node.\n",
    "            y: int\n",
    "                Instance class.\n",
    "            weight: float\n",
    "                Instance weight.\n",
    "            ht: HoeffdingTree\n",
    "                Hoeffding Tree to update.\n",
    "            \"\"\"            \n",
    "            self._observed_class_distribution[y] += weight                            \n",
    "            if not self.list_attributes:\n",
    "                self.list_attributes = [None] * self.nb_attributes\n",
    "                for j in range(self.nb_attributes):    \n",
    "                    is_unique = False\n",
    "                    while is_unique == False:\n",
    "                        self.list_attributes[j] = randint(0, self.nb_attributes - 1)\n",
    "                        is_unique = True\n",
    "                        for i in range(j):\n",
    "                            if self.list_attributes[j] == self.list_attributes[i]:\n",
    "                                is_unique = False\n",
    "                                break\n",
    "            \n",
    "            for j in range(self.nb_attributes):\n",
    "                i = self.list_attributes[j]\n",
    "                obs = self._attribute_observers[i]\n",
    "                if obs is None:\n",
    "                    if i in ht.nominal_attributes:\n",
    "                        obs = NominalAttributeClassObserver()\n",
    "                    else:\n",
    "                        obs = GaussianNumericAttributeClassObserver()\n",
    "                    self._attribute_observers[i] = obs\n",
    "            obs.observe_attribute_class(X[i], int(y), weight)\n",
    "            \n",
    "    class LearningNodeNB(RandomLearningNode):\n",
    "\n",
    "        def __init__(self, initial_class_observations, nb_attributes):\n",
    "            super().__init__(initial_class_observations, nb_attributes)            \n",
    "            \n",
    "        def get_class_votes(self, X, ht):\n",
    "            \"\"\"Get the votes per class for a given instance.\n",
    "            Parameters\n",
    "            ----------\n",
    "            X: numpy.ndarray of length equal to the number of features.\n",
    "                Instance attributes.\n",
    "            ht: HoeffdingTree\n",
    "                Hoeffding Tree.\n",
    "            Returns\n",
    "            -------\n",
    "            dict (class_value, weight)\n",
    "                Class votes for the given instance.\n",
    "            \"\"\"\n",
    "            if self.get_weight_seen() >= ht.nb_threshold:\n",
    "                return do_naive_bayes_prediction(X, self._observed_class_distribution, self._attribute_observers)\n",
    "            else:\n",
    "                return super().get_class_votes(X, ht)\n",
    "\n",
    "    class LearningNodeNBAdaptive(LearningNodeNB):\n",
    "        \"\"\"Learning node that uses Adaptive Naive Bayes models.\n",
    "        Parameters\n",
    "        ----------\n",
    "        initial_class_observations: dict (class_value, weight) or None\n",
    "            Initial class observations\n",
    "        \"\"\"\n",
    "        def __init__(self, initial_class_observations, nb_attributes):\n",
    "            \"\"\"LearningNodeNBAdaptive class constructor. \"\"\"\n",
    "            super().__init__(initial_class_observations, nb_attributes)\n",
    "            self._mc_correct_weight = 0.0\n",
    "            self._nb_correct_weight = 0.0\n",
    "\n",
    "        def learn_from_instance(self, X, y, weight, ht):\n",
    "            \"\"\"Update the node with the provided instance.\n",
    "            Parameters\n",
    "            ----------\n",
    "            X: numpy.ndarray of length equal to the number of features.\n",
    "                Instance attributes for updating the node.\n",
    "            y: int\n",
    "                Instance class.\n",
    "            weight: float\n",
    "                The instance's weight.\n",
    "            ht: HoeffdingTree\n",
    "                The Hoeffding Tree to update.\n",
    "            \"\"\"\n",
    "            if self._observed_class_distribution == {}:\n",
    "                # All classes equal, default to class 0\n",
    "                if 0 == y:\n",
    "                    self._mc_correct_weight += weight\n",
    "            elif max(self._observed_class_distribution, key=self._observed_class_distribution.get) == y:\n",
    "                self._mc_correct_weight += weight\n",
    "            nb_prediction = do_naive_bayes_prediction(X, self._observed_class_distribution, self._attribute_observers)\n",
    "            if max(nb_prediction, key=nb_prediction.get) == y:\n",
    "                self._nb_correct_weight += weight\n",
    "            super().learn_from_instance(X, y, weight, ht)\n",
    "\n",
    "        def get_class_votes(self, X, ht):\n",
    "            \"\"\"Get the votes per class for a given instance.\n",
    "            Parameters\n",
    "            ----------\n",
    "            X: numpy.ndarray of length equal to the number of features.\n",
    "                Instance attributes.\n",
    "            ht: HoeffdingTree\n",
    "                Hoeffding Tree.\n",
    "            Returns\n",
    "            -------\n",
    "            dict (class_value, weight)\n",
    "                Class votes for the given instance.\n",
    "            \"\"\"\n",
    "            if self._mc_correct_weight > self._nb_correct_weight:\n",
    "                return self._observed_class_distribution\n",
    "            return do_naive_bayes_prediction(X, self._observed_class_distribution, self._attribute_observers)\n",
    "        \n",
    "    def __init__(self, max_byte_size = 33554432, memory_estimate_period = 1000000, grace_period = 200,\n",
    "                     split_criterion = 'info_gain', split_confidence = 0.0000001, tie_threshold = 0.05, \n",
    "                     binary_split = False, stop_mem_management = False, remove_poor_atts = False, no_preprune = False, \n",
    "                     leaf_prediction = 'mc', nb_threshold = 0, nominal_attributes = None, nb_attributes = 2):                \n",
    "        \"\"\"ADFHoeffdingTree class constructor.\"\"\"\n",
    "        super().__init__(max_byte_size, memory_estimate_period, grace_period, split_criterion, split_confidence,\n",
    "                        tie_threshold, binary_split, stop_mem_management, remove_poor_atts, no_preprune,\n",
    "                        leaf_prediction, nb_threshold, nominal_attributes)\n",
    "        self.nb_attributes = nb_attributes\n",
    "        self.remove_poor_attributes_option = None        \n",
    "\n",
    "    def newLearningNode(self, initial_class_observations):        \n",
    "        if self._leaf_prediction == MAJORITY_CLASS:\n",
    "            return RandomLearningNode(self, initialClassObservations, self.nb_attributes)            \n",
    "        elif self._leaf_prediction == NAIVE_BAYES:\n",
    "            return LearningNodeNB(self, initialClassObservations, self.nb_attributes)            \n",
    "        else: #NAIVE_BAYES_ADAPTIVE\n",
    "            return LearningNodeNBAdaptative(self, initialClassObservations, self.nb_attributes)\n",
    "            \n",
    "    def isRandomizable():\n",
    "        return True;\n",
    "    "
   ]
  },
  {
   "cell_type": "markdown",
   "metadata": {},
   "source": [
    "# Tests for ADFHoeffdingtree.\n",
    "\n",
    "## For the following part we test the ADFHoeffdingtree algorithm according to several parameters:\n",
    "    -If the stream is created with a csv file or with the waveformgenerator()\n",
    "    \n",
    "    -We test for 3 datasets: covtype, movingSquares and sea_stream.\n",
    "    \n",
    "        -covtype: The forest covertype data set represents forest cover type for 30 x30 meter cells obtained from the US Forest Service Region 2 Resource InformationSystem (RIS) data. Each class corresponds to a diﬀerent cover type. This dataset contains 581,012 instances, 54 attributes (10 numeric and 44 binary) and 7imbalanced class labels. \n",
    "       \n",
    "       -movingsquares:\n",
    "        \n",
    "       -sea_stream: The SEA generator produces data streams with three continuousattributes (f1, f2, f3). The range of values that each attribute can assume is be-tween 0 and 10. Only the ﬁrst two attributes (f1, f2) are relevant, i.e., f3doesnot inﬂuence the class value determination. New instances are obtained throughrandomly setting a point in a two dimensional space, such that these dimensionscorresponds to f1and f2. This two dimensional space is split into four blocks,each of which corresponds to one of four diﬀerent functions. In each block a pointbelongs to class 1 if f1+f2≤θand to class 0 otherwise. The threshold θusedto split instances between class 0 and 1 assumes values 8 (block 1), 9 (block 2), 7(block 3) and 9.5 (block 4). It is possible to add noise to class values, being thedefault value 10%, and to balance the number of instances of each class. SEAgsimulates 3 gradual drifts, while SEAasimulates 3 abrupt drifts \n",
    "\n",
    "Adaptive random forests for evolving data stream classification (PDF Download Available). Available from: https://www.researchgate.net/publication/317579226_Adaptive_random_forests_for_evolving_data_stream_classification [accessed Feb 11 2018].\n",
    "       \n",
    "    -We use 2 evaluators: Prequential and Holdout. Hold-out is more accurate, but needs data for testing.\n",
    "    \n",
    "        -Prequential:The error of a model is computed from the sequence of examples. \n",
    "        For each example in the stream, the actual model makes a prediction, and then uses it to update the model.\n",
    "        \n",
    "        -Holdout:Apply the current decision model to the test set,at regular time intervals \n",
    "        The loss estimated in the hold out is an unbiased estimator\n",
    "        \n",
    "    -Finally we compare the model with a naive bayes model, BernoulliNB, with the accuracy and the Kappa statistic.\n",
    "        \n",
    "        -Accuracy:\n",
    "        \n",
    "        -Kappa statistic: k=1 the classifier is always correct. \n",
    "                          k=0 the predictions coincide with the correct ones as often as those of the chance classifier\n",
    "        \n",
    "        \n",
    "ADFHoeffdingtree with wave form generator stream"
   ]
  },
  {
   "cell_type": "code",
   "execution_count": 2,
   "metadata": {
    "scrolled": true
   },
   "outputs": [
    {
     "name": "stderr",
     "output_type": "stream",
     "text": [
      "skmultiflow.classification.trees.hoeffding_tree - INFO - No Nominal attributes have been defined, will consider all attributes as numerical\n",
      "root - INFO - Prequential Evaluation\n",
      "root - INFO - Generating 3 targets.\n",
      "root - INFO - Pretraining on 100 samples.\n",
      "root - INFO - Evaluating...\n"
     ]
    },
    {
     "data": {
      "text/plain": [
       "<matplotlib.figure.Figure at 0x10abf3d68>"
      ]
     },
     "metadata": {},
     "output_type": "display_data"
    },
    {
     "data": {
      "text/plain": [
       "<matplotlib.figure.Figure at 0x112fea0b8>"
      ]
     },
     "metadata": {},
     "output_type": "display_data"
    },
    {
     "name": "stderr",
     "output_type": "stream",
     "text": [
      "root - INFO - 5.0%\n"
     ]
    },
    {
     "data": {
      "text/plain": [
       "<matplotlib.figure.Figure at 0x1135e9a20>"
      ]
     },
     "metadata": {},
     "output_type": "display_data"
    },
    {
     "data": {
      "text/plain": [
       "<matplotlib.figure.Figure at 0x1135e97b8>"
      ]
     },
     "metadata": {},
     "output_type": "display_data"
    },
    {
     "name": "stderr",
     "output_type": "stream",
     "text": [
      "root - INFO - 10.0%\n"
     ]
    },
    {
     "data": {
      "text/plain": [
       "<matplotlib.figure.Figure at 0x1135fd748>"
      ]
     },
     "metadata": {},
     "output_type": "display_data"
    },
    {
     "data": {
      "text/plain": [
       "<matplotlib.figure.Figure at 0x1135fd1d0>"
      ]
     },
     "metadata": {},
     "output_type": "display_data"
    },
    {
     "data": {
      "text/plain": [
       "<matplotlib.figure.Figure at 0x113604860>"
      ]
     },
     "metadata": {},
     "output_type": "display_data"
    },
    {
     "name": "stderr",
     "output_type": "stream",
     "text": [
      "root - INFO - 15.0%\n"
     ]
    },
    {
     "data": {
      "text/plain": [
       "<matplotlib.figure.Figure at 0x113610898>"
      ]
     },
     "metadata": {},
     "output_type": "display_data"
    },
    {
     "data": {
      "text/plain": [
       "<matplotlib.figure.Figure at 0x113610ba8>"
      ]
     },
     "metadata": {},
     "output_type": "display_data"
    },
    {
     "name": "stderr",
     "output_type": "stream",
     "text": [
      "root - INFO - 20.0%\n"
     ]
    },
    {
     "data": {
      "text/plain": [
       "<matplotlib.figure.Figure at 0x1136165c0>"
      ]
     },
     "metadata": {},
     "output_type": "display_data"
    },
    {
     "data": {
      "text/plain": [
       "<matplotlib.figure.Figure at 0x1136160b8>"
      ]
     },
     "metadata": {},
     "output_type": "display_data"
    },
    {
     "data": {
      "text/plain": [
       "<matplotlib.figure.Figure at 0x113620198>"
      ]
     },
     "metadata": {},
     "output_type": "display_data"
    },
    {
     "name": "stderr",
     "output_type": "stream",
     "text": [
      "root - INFO - 25.0%\n"
     ]
    },
    {
     "data": {
      "text/plain": [
       "<matplotlib.figure.Figure at 0x113620e48>"
      ]
     },
     "metadata": {},
     "output_type": "display_data"
    },
    {
     "data": {
      "text/plain": [
       "<matplotlib.figure.Figure at 0x1136298d0>"
      ]
     },
     "metadata": {},
     "output_type": "display_data"
    },
    {
     "name": "stderr",
     "output_type": "stream",
     "text": [
      "root - INFO - 30.0%\n"
     ]
    },
    {
     "data": {
      "text/plain": [
       "<matplotlib.figure.Figure at 0x113629c88>"
      ]
     },
     "metadata": {},
     "output_type": "display_data"
    },
    {
     "data": {
      "text/plain": [
       "<matplotlib.figure.Figure at 0x113631978>"
      ]
     },
     "metadata": {},
     "output_type": "display_data"
    },
    {
     "data": {
      "text/plain": [
       "<matplotlib.figure.Figure at 0x113631b38>"
      ]
     },
     "metadata": {},
     "output_type": "display_data"
    },
    {
     "name": "stderr",
     "output_type": "stream",
     "text": [
      "root - INFO - 35.0%\n"
     ]
    },
    {
     "data": {
      "text/plain": [
       "<matplotlib.figure.Figure at 0x114451a90>"
      ]
     },
     "metadata": {},
     "output_type": "display_data"
    },
    {
     "data": {
      "text/plain": [
       "<matplotlib.figure.Figure at 0x11445e438>"
      ]
     },
     "metadata": {},
     "output_type": "display_data"
    },
    {
     "name": "stderr",
     "output_type": "stream",
     "text": [
      "root - INFO - 40.0%\n"
     ]
    },
    {
     "data": {
      "text/plain": [
       "<matplotlib.figure.Figure at 0x11445ec88>"
      ]
     },
     "metadata": {},
     "output_type": "display_data"
    },
    {
     "data": {
      "text/plain": [
       "<matplotlib.figure.Figure at 0x11445ee48>"
      ]
     },
     "metadata": {},
     "output_type": "display_data"
    },
    {
     "data": {
      "text/plain": [
       "<matplotlib.figure.Figure at 0x114466dd8>"
      ]
     },
     "metadata": {},
     "output_type": "display_data"
    },
    {
     "name": "stderr",
     "output_type": "stream",
     "text": [
      "root - INFO - 45.0%\n"
     ]
    },
    {
     "data": {
      "text/plain": [
       "<matplotlib.figure.Figure at 0x11446f160>"
      ]
     },
     "metadata": {},
     "output_type": "display_data"
    },
    {
     "data": {
      "text/plain": [
       "<matplotlib.figure.Figure at 0x11446fcf8>"
      ]
     },
     "metadata": {},
     "output_type": "display_data"
    },
    {
     "name": "stderr",
     "output_type": "stream",
     "text": [
      "root - INFO - 50.0%\n"
     ]
    },
    {
     "data": {
      "text/plain": [
       "<matplotlib.figure.Figure at 0x114477438>"
      ]
     },
     "metadata": {},
     "output_type": "display_data"
    },
    {
     "data": {
      "text/plain": [
       "<matplotlib.figure.Figure at 0x114477fd0>"
      ]
     },
     "metadata": {},
     "output_type": "display_data"
    },
    {
     "data": {
      "text/plain": [
       "<matplotlib.figure.Figure at 0x1144807f0>"
      ]
     },
     "metadata": {},
     "output_type": "display_data"
    },
    {
     "name": "stderr",
     "output_type": "stream",
     "text": [
      "root - INFO - 55.0%\n"
     ]
    },
    {
     "data": {
      "text/plain": [
       "<matplotlib.figure.Figure at 0x114480cf8>"
      ]
     },
     "metadata": {},
     "output_type": "display_data"
    },
    {
     "data": {
      "text/plain": [
       "<matplotlib.figure.Figure at 0x11448a908>"
      ]
     },
     "metadata": {},
     "output_type": "display_data"
    },
    {
     "name": "stderr",
     "output_type": "stream",
     "text": [
      "root - INFO - 60.0%\n"
     ]
    },
    {
     "data": {
      "text/plain": [
       "<matplotlib.figure.Figure at 0x11448a630>"
      ]
     },
     "metadata": {},
     "output_type": "display_data"
    },
    {
     "data": {
      "text/plain": [
       "<matplotlib.figure.Figure at 0x1153cca90>"
      ]
     },
     "metadata": {},
     "output_type": "display_data"
    },
    {
     "data": {
      "text/plain": [
       "<matplotlib.figure.Figure at 0x1153db208>"
      ]
     },
     "metadata": {},
     "output_type": "display_data"
    },
    {
     "name": "stderr",
     "output_type": "stream",
     "text": [
      "root - INFO - 65.0%\n"
     ]
    },
    {
     "data": {
      "text/plain": [
       "<matplotlib.figure.Figure at 0x1153db4e0>"
      ]
     },
     "metadata": {},
     "output_type": "display_data"
    },
    {
     "data": {
      "text/plain": [
       "<matplotlib.figure.Figure at 0x1153e02e8>"
      ]
     },
     "metadata": {},
     "output_type": "display_data"
    },
    {
     "name": "stderr",
     "output_type": "stream",
     "text": [
      "root - INFO - 70.0%\n"
     ]
    },
    {
     "data": {
      "text/plain": [
       "<matplotlib.figure.Figure at 0x1153e0d68>"
      ]
     },
     "metadata": {},
     "output_type": "display_data"
    },
    {
     "data": {
      "text/plain": [
       "<matplotlib.figure.Figure at 0x1153ee320>"
      ]
     },
     "metadata": {},
     "output_type": "display_data"
    },
    {
     "data": {
      "text/plain": [
       "<matplotlib.figure.Figure at 0x1153eee48>"
      ]
     },
     "metadata": {},
     "output_type": "display_data"
    },
    {
     "name": "stderr",
     "output_type": "stream",
     "text": [
      "root - INFO - 75.0%\n"
     ]
    },
    {
     "data": {
      "text/plain": [
       "<matplotlib.figure.Figure at 0x1153f4b38>"
      ]
     },
     "metadata": {},
     "output_type": "display_data"
    },
    {
     "data": {
      "text/plain": [
       "<matplotlib.figure.Figure at 0x1153f4c18>"
      ]
     },
     "metadata": {},
     "output_type": "display_data"
    },
    {
     "name": "stderr",
     "output_type": "stream",
     "text": [
      "root - INFO - 80.0%\n"
     ]
    },
    {
     "data": {
      "text/plain": [
       "<matplotlib.figure.Figure at 0x1153fe9b0>"
      ]
     },
     "metadata": {},
     "output_type": "display_data"
    },
    {
     "data": {
      "text/plain": [
       "<matplotlib.figure.Figure at 0x11303c320>"
      ]
     },
     "metadata": {},
     "output_type": "display_data"
    },
    {
     "data": {
      "text/plain": [
       "<matplotlib.figure.Figure at 0x116221be0>"
      ]
     },
     "metadata": {},
     "output_type": "display_data"
    },
    {
     "name": "stderr",
     "output_type": "stream",
     "text": [
      "root - INFO - 85.0%\n"
     ]
    },
    {
     "data": {
      "text/plain": [
       "<matplotlib.figure.Figure at 0x11622c400>"
      ]
     },
     "metadata": {},
     "output_type": "display_data"
    },
    {
     "data": {
      "text/plain": [
       "<matplotlib.figure.Figure at 0x11622cc88>"
      ]
     },
     "metadata": {},
     "output_type": "display_data"
    },
    {
     "name": "stderr",
     "output_type": "stream",
     "text": [
      "root - INFO - 90.0%\n"
     ]
    },
    {
     "data": {
      "text/plain": [
       "<matplotlib.figure.Figure at 0x116235550>"
      ]
     },
     "metadata": {},
     "output_type": "display_data"
    },
    {
     "data": {
      "text/plain": [
       "<matplotlib.figure.Figure at 0x116235e48>"
      ]
     },
     "metadata": {},
     "output_type": "display_data"
    },
    {
     "data": {
      "text/plain": [
       "<matplotlib.figure.Figure at 0x11623c5f8>"
      ]
     },
     "metadata": {},
     "output_type": "display_data"
    },
    {
     "name": "stderr",
     "output_type": "stream",
     "text": [
      "root - INFO - 95.0%\n"
     ]
    },
    {
     "data": {
      "text/plain": [
       "<matplotlib.figure.Figure at 0x11623cf28>"
      ]
     },
     "metadata": {},
     "output_type": "display_data"
    },
    {
     "data": {
      "text/plain": [
       "<matplotlib.figure.Figure at 0x1162449b0>"
      ]
     },
     "metadata": {},
     "output_type": "display_data"
    },
    {
     "name": "stderr",
     "output_type": "stream",
     "text": [
      "root - INFO - 100.0%\n",
      "root - INFO - \n",
      "Evaluation time: 8.262 s\n",
      "root - INFO - Total instances: 10000\n",
      "root - INFO - Classifier 0 - Global accuracy: 0.377\n",
      "root - INFO - Classifier 0 - Global kappa: 0.063\n"
     ]
    },
    {
     "data": {
      "text/plain": [
       "[<__main__.ADFHoeffdingTree at 0x107526d68>]"
      ]
     },
     "execution_count": 2,
     "metadata": {},
     "output_type": "execute_result"
    }
   ],
   "source": [
    "from skmultiflow.data.generators.waveform_generator import WaveformGenerator\n",
    "from skmultiflow.classification.trees.hoeffding_tree import HoeffdingTree\n",
    "from skmultiflow.evaluation.evaluate_prequential import EvaluatePrequential\n",
    "\n",
    "# 1. Create a stream\n",
    "stream = WaveformGenerator()\n",
    "stream.prepare_for_use()\n",
    "\n",
    "# 2. Instantiate the classifier\n",
    "adfht = ADFHoeffdingTree()\n",
    "\n",
    "# 3. Setup the evaluator\n",
    "eval = EvaluatePrequential(show_plot=True, pretrain_size=100, max_instances=10000)\n",
    "\n",
    "# 4. Run evaluation\n",
    "eval.eval(stream=stream, classifier=adfht)"
   ]
  },
  {
   "cell_type": "markdown",
   "metadata": {},
   "source": [
    "1. Error estimation: Hold-out or Prequential\n",
    "2. Evaluation performance measures: Accuracy or κ-statistic \n",
    "3. Statistical significance validation: MacNemar or Nemenyi test \n",
    "4. Resources needed: time and memory or RAM-Hours\n",
    "\n",
    "Eval Pre and Holdout with datasets.csv for ADFHoeddfing tree\n"
   ]
  },
  {
   "cell_type": "code",
   "execution_count": 8,
   "metadata": {
    "scrolled": true
   },
   "outputs": [
    {
     "name": "stderr",
     "output_type": "stream",
     "text": [
      "skmultiflow.classification.trees.hoeffding_tree - INFO - No Nominal attributes have been defined, will consider all attributes as numerical\n",
      "root - INFO - Prequential Evaluation\n",
      "root - INFO - Generating 7 targets.\n",
      "root - INFO - Pretraining on 1000 samples.\n",
      "root - INFO - Evaluating...\n",
      "root - INFO - 5.0%\n",
      "root - INFO - 10.0%\n",
      "root - INFO - 15.0%\n",
      "root - INFO - 20.0%\n",
      "root - INFO - 25.0%\n",
      "root - INFO - 30.0%\n",
      "root - INFO - 35.0%\n",
      "root - INFO - 40.0%\n",
      "root - INFO - 45.0%\n",
      "root - INFO - 50.0%\n",
      "root - INFO - 55.0%\n",
      "root - INFO - 60.0%\n",
      "root - INFO - 65.0%\n",
      "root - INFO - 70.0%\n",
      "root - INFO - 75.0%\n",
      "root - INFO - 80.0%\n",
      "root - INFO - 85.0%\n",
      "root - INFO - 90.0%\n",
      "root - INFO - 95.0%\n",
      "root - INFO - 100.0%\n",
      "root - INFO - \n",
      "Evaluation time: 177.301 s\n",
      "root - INFO - Total instances: 100000\n",
      "root - INFO - Classifier 0 - Global accuracy: 0.727\n",
      "root - INFO - Classifier 0 - Global kappa: 0.418\n",
      "root - INFO - Classifier 0 - Global kappa T: -2.03\n"
     ]
    },
    {
     "data": {
      "text/plain": [
       "[<__main__.ADFHoeffdingTree at 0x1141a05c0>]"
      ]
     },
     "execution_count": 8,
     "metadata": {},
     "output_type": "execute_result"
    }
   ],
   "source": [
    "from skmultiflow.options.file_option import FileOption\n",
    "from skmultiflow.data.file_stream import FileStream\n",
    "from skmultiflow.classification.trees.hoeffding_tree import HoeffdingTree\n",
    "from skmultiflow.evaluation.evaluate_prequential import EvaluatePrequential\n",
    "from skmultiflow.evaluation.evaluate_holdout import EvaluateHoldout\n",
    "\n",
    "\n",
    "# 1. Create a stream\n",
    "options = FileOption(option_value=\"../datasets/covtype.csv\", file_extension=\"CSV\")\n",
    "#options = FileOption(option_value=\"../datasets/movingSquares.csv\", file_extension=\"CSV\")\n",
    "#options = FileOption(option_value=\"../datasets/sea_stream.csv\", file_extension=\"CSV\")\n",
    "\n",
    "stream = FileStream(options)\n",
    "\n",
    "stream.prepare_for_use()\n",
    "\n",
    "# 2. Instantiate the classifier\n",
    "adfht = ADFHoeffdingTree()\n",
    "\n",
    "# 3. Setup the evaluator\n",
    "eval = EvaluatePrequential(pretrain_size=1000, max_instances=100000, batch_size=1, max_time=1000, output_file='resultsPrequential.csv', task_type='classification', show_plot=False, plot_options=['kappa', 'kappa_t', 'performance'])\n",
    "#eval = EvaluateHoldout(pretrain_size=200, max_instances=100000, batch_size=1, max_time=1000, output_file='resultsHoldout.csv', task_type='classification', show_plot=False, plot_options=['kappa', 'performance'], test_size=5000, dynamic_test_set=True)\n",
    "\n",
    "# 4. Run evaluation\n",
    "eval.eval(stream=stream, classifier=adfht)"
   ]
  },
  {
   "cell_type": "markdown",
   "metadata": {},
   "source": [
    "compare two classifiers with holdout"
   ]
  },
  {
   "cell_type": "code",
   "execution_count": 4,
   "metadata": {
    "scrolled": true
   },
   "outputs": [
    {
     "name": "stderr",
     "output_type": "stream",
     "text": [
      "skmultiflow.classification.trees.hoeffding_tree - INFO - No Nominal attributes have been defined, will consider all attributes as numerical\n",
      "root - INFO - Holdout Evaluation\n",
      "root - INFO - Generating 7 targets.\n",
      "root - INFO - Pretraining on 200 samples.\n",
      "/anaconda2/envs/py36/lib/python3.6/site-packages/sklearn/naive_bayes.py:461: RuntimeWarning: divide by zero encountered in log\n",
      "  self.class_log_prior_ = (np.log(self.class_count_) -\n",
      "root - INFO - Evaluating...\n",
      "root - INFO - 5.0%\n",
      "root - INFO - 10.0%\n",
      "root - INFO - Separating 5000 dynamic holdout samples.\n",
      "root - INFO - Testing model on 5000 samples.\n",
      "root - INFO - 15.0%\n",
      "root - INFO - 20.0%\n",
      "root - INFO - Separating 5000 dynamic holdout samples.\n",
      "root - INFO - Testing model on 5000 samples.\n",
      "root - INFO - 25.0%\n",
      "root - INFO - 30.0%\n",
      "root - INFO - Separating 5000 dynamic holdout samples.\n",
      "root - INFO - Testing model on 5000 samples.\n",
      "root - INFO - 35.0%\n",
      "root - INFO - 40.0%\n",
      "root - INFO - Separating 5000 dynamic holdout samples.\n",
      "root - INFO - Testing model on 5000 samples.\n",
      "root - INFO - 45.0%\n",
      "root - INFO - 50.0%\n",
      "root - INFO - Separating 5000 dynamic holdout samples.\n",
      "root - INFO - Testing model on 5000 samples.\n",
      "root - INFO - 55.0%\n",
      "root - INFO - 60.0%\n",
      "root - INFO - Separating 5000 dynamic holdout samples.\n",
      "root - INFO - Testing model on 5000 samples.\n",
      "root - INFO - 65.0%\n",
      "root - INFO - 70.0%\n",
      "root - INFO - Separating 5000 dynamic holdout samples.\n",
      "root - INFO - Testing model on 5000 samples.\n",
      "root - INFO - 75.0%\n",
      "root - INFO - 80.0%\n",
      "root - INFO - Separating 5000 dynamic holdout samples.\n",
      "root - INFO - Testing model on 5000 samples.\n",
      "root - INFO - 85.0%\n",
      "root - INFO - 90.0%\n",
      "root - INFO - Separating 5000 dynamic holdout samples.\n",
      "root - INFO - Testing model on 5000 samples.\n",
      "root - INFO - 95.0%\n",
      "root - INFO - 100.0%\n",
      "root - INFO - \n",
      "Evaluation time: 210.284 s\n",
      "root - INFO - Total instances: 100000\n",
      "root - INFO - Classifier 0 - Global accuracy: 0.729\n",
      "root - INFO - Classifier 0 - Global kappa: 0.339\n",
      "root - INFO - Classifier 1 - Global accuracy: 0.776\n",
      "root - INFO - Classifier 1 - Global kappa: 0.512\n"
     ]
    },
    {
     "data": {
      "text/plain": [
       "[BernoulliNB(alpha=1.0, binarize=0.0, class_prior=None, fit_prior=True),\n",
       " <__main__.ADFHoeffdingTree at 0x1157951d0>]"
      ]
     },
     "execution_count": 4,
     "metadata": {},
     "output_type": "execute_result"
    }
   ],
   "source": [
    "# The second example will demonstrate how to compare two classifiers with\n",
    "# the EvaluateHoldout\n",
    "from skmultiflow.evaluation.evaluate_holdout import EvaluateHoldout\n",
    "\n",
    "from sklearn.naive_bayes import BernoulliNB\n",
    "\n",
    "options = FileOption(option_value=\"../datasets/covtype.csv\", file_extension=\"CSV\")\n",
    "#options = FileOption(option_value=\"../datasets/movingSquares.csv\", file_extension=\"CSV\")\n",
    "#options = FileOption(option_value=\"../datasets/sea_stream.csv\", file_extension=\"CSV\")\n",
    "stream = FileStream(options)\n",
    "\n",
    "stream.prepare_for_use()\n",
    "\n",
    "clf_one = BernoulliNB()\n",
    "clf_two = ADFHoeffdingTree()\n",
    "classifier = [clf_one, clf_two]\n",
    "\n",
    "eval = EvaluateHoldout(pretrain_size=200, test_size=5000, dynamic_test_set=True, max_instances=100000, batch_size=1,  max_time=1000, output_file='comparison_Bernoulli_ADFH_Holdout.csv', task_type='classification', show_plot=False, plot_options=['kappa', 'performance'])\n",
    "eval.eval(stream=stream, classifier=classifier)"
   ]
  },
  {
   "cell_type": "markdown",
   "metadata": {},
   "source": [
    "compare two classifiers with prequential"
   ]
  },
  {
   "cell_type": "code",
   "execution_count": 5,
   "metadata": {
    "scrolled": true
   },
   "outputs": [
    {
     "name": "stderr",
     "output_type": "stream",
     "text": [
      "skmultiflow.classification.trees.hoeffding_tree - INFO - No Nominal attributes have been defined, will consider all attributes as numerical\n",
      "root - INFO - Prequential Evaluation\n",
      "root - INFO - Generating 7 targets.\n",
      "root - INFO - Pretraining on 200 samples.\n",
      "/anaconda2/envs/py36/lib/python3.6/site-packages/sklearn/naive_bayes.py:461: RuntimeWarning: divide by zero encountered in log\n",
      "  self.class_log_prior_ = (np.log(self.class_count_) -\n",
      "root - INFO - Evaluating...\n",
      "root - INFO - 5.0%\n",
      "root - INFO - 10.0%\n",
      "root - INFO - 15.0%\n",
      "root - INFO - 20.0%\n",
      "root - INFO - 25.0%\n",
      "root - INFO - 30.0%\n",
      "root - INFO - 35.0%\n",
      "root - INFO - 40.0%\n",
      "root - INFO - 45.0%\n",
      "root - INFO - 50.0%\n",
      "root - INFO - 55.0%\n",
      "root - INFO - 60.0%\n",
      "root - INFO - 65.0%\n",
      "root - INFO - 70.0%\n",
      "root - INFO - 75.0%\n",
      "root - INFO - 80.0%\n",
      "root - INFO - 85.0%\n",
      "root - INFO - 90.0%\n",
      "root - INFO - 95.0%\n",
      "root - INFO - 100.0%\n",
      "root - INFO - \n",
      "Evaluation time: 271.276 s\n",
      "root - INFO - Total instances: 100000\n",
      "root - INFO - Classifier 0 - Global accuracy: 0.741\n",
      "root - INFO - Classifier 0 - Global kappa: 0.412\n",
      "root - INFO - Classifier 0 - Global kappa T: -1.79\n",
      "root - INFO - Classifier 1 - Global accuracy: 0.727\n",
      "root - INFO - Classifier 1 - Global kappa: 0.416\n",
      "root - INFO - Classifier 1 - Global kappa T: -1.941\n"
     ]
    },
    {
     "data": {
      "text/plain": [
       "[<skmultiflow.core.pipeline.Pipeline at 0x113500748>,\n",
       " <__main__.ADFHoeffdingTree at 0x113500710>]"
      ]
     },
     "execution_count": 5,
     "metadata": {},
     "output_type": "execute_result"
    }
   ],
   "source": [
    "# The second example will demonstrate how to compare two classifiers with\n",
    "# the EvaluatePrequential\n",
    "from skmultiflow.core.pipeline import Pipeline\n",
    "from skmultiflow.data.file_stream import FileStream\n",
    "from skmultiflow.options.file_option import FileOption\n",
    "from skmultiflow.evaluation.evaluate_prequential import EvaluatePrequential\n",
    "from sklearn.naive_bayes import BernoulliNB\n",
    "\n",
    "\n",
    "# Setup the File Stream\n",
    "opt = FileOption(\"FILE\", \"OPT_NAME\", \"../datasets/covtype.csv\", \"CSV\", False)\n",
    "#opt = FileOption(\"FILE\", \"OPT_NAME\", \"../datasets/movingSquares.csv\", \"CSV\", False)\n",
    "#opt = FileOption(\"FILE\", \"OPT_NAME\", \"../datasets/sea_stream.csv\", \"CSV\", False)\n",
    "\n",
    "stream = FileStream(opt, -1, 1)\n",
    "stream.prepare_for_use()\n",
    "\n",
    "# Setup the classifiers\n",
    "clf_one = BernoulliNB()\n",
    "clf_two = ADFHoeffdingTree()\n",
    "\n",
    "# Setup the pipeline for clf_one\n",
    "pipe = Pipeline([('Classifier', clf_one)])\n",
    "\n",
    "# Create the list to hold both classifiers\n",
    "classifier = [pipe, clf_two]\n",
    "\n",
    "# Setup the evaluator\n",
    "eval = EvaluatePrequential(pretrain_size=200, max_instances=100000, batch_size=1, max_time=1000, output_file='comparison_Bernoulli_ADFH_Preq.csv', task_type='classification', show_plot=False, plot_options=['kappa', 'kappa_t', 'performance'])\n",
    "\n",
    "# Evaluate\n",
    "eval.eval(stream=stream, classifier=classifier)"
   ]
  },
  {
   "cell_type": "code",
   "execution_count": 6,
   "metadata": {},
   "outputs": [
    {
     "name": "stderr",
     "output_type": "stream",
     "text": [
      "skmultiflow.classification.trees.hoeffding_tree - INFO - No Nominal attributes have been defined, will consider all attributes as numerical\n",
      "skmultiflow.classification.trees.hoeffding_tree - INFO - No Nominal attributes have been defined, will consider all attributes as numerical\n",
      "root - INFO - Prequential Evaluation\n",
      "root - INFO - Generating 7 targets.\n",
      "root - INFO - Pretraining on 200 samples.\n",
      "root - INFO - Evaluating...\n",
      "root - INFO - 5.0%\n",
      "root - INFO - 10.0%\n",
      "root - INFO - 15.0%\n",
      "root - INFO - 20.0%\n",
      "root - INFO - 25.0%\n",
      "root - INFO - 30.0%\n",
      "root - INFO - 35.0%\n",
      "root - INFO - 40.0%\n",
      "root - INFO - 45.0%\n",
      "root - INFO - 50.0%\n",
      "root - INFO - 55.0%\n",
      "root - INFO - 60.0%\n",
      "root - INFO - 65.0%\n",
      "root - INFO - 70.0%\n",
      "root - INFO - 75.0%\n",
      "root - INFO - 80.0%\n",
      "root - INFO - 85.0%\n",
      "root - INFO - 90.0%\n",
      "root - INFO - 95.0%\n",
      "root - INFO - 100.0%\n",
      "root - INFO - \n",
      "Evaluation time: 322.487 s\n",
      "root - INFO - Total instances: 100000\n",
      "root - INFO - Classifier 0 - Global accuracy: 0.727\n",
      "root - INFO - Classifier 0 - Global kappa: 0.416\n",
      "root - INFO - Classifier 0 - Global kappa T: -1.941\n",
      "root - INFO - Classifier 1 - Global accuracy: 0.727\n",
      "root - INFO - Classifier 1 - Global kappa: 0.416\n",
      "root - INFO - Classifier 1 - Global kappa T: -1.941\n"
     ]
    },
    {
     "data": {
      "text/plain": [
       "[<skmultiflow.core.pipeline.Pipeline at 0x11595c240>,\n",
       " <__main__.ADFHoeffdingTree at 0x11595c208>]"
      ]
     },
     "execution_count": 6,
     "metadata": {},
     "output_type": "execute_result"
    }
   ],
   "source": [
    "# Verification of the same result for ADFHoeffdingTree\n",
    "from skmultiflow.core.pipeline import Pipeline\n",
    "from skmultiflow.data.file_stream import FileStream\n",
    "from skmultiflow.options.file_option import FileOption\n",
    "from skmultiflow.evaluation.evaluate_prequential import EvaluatePrequential\n",
    "from skmultiflow.classification.trees.hoeffding_tree import HoeffdingTree\n",
    "\n",
    "\n",
    "# Setup the File Stream\n",
    "opt = FileOption(\"FILE\", \"OPT_NAME\", \"../datasets/covtype.csv\", \"CSV\", False)\n",
    "#opt = FileOption(\"FILE\", \"OPT_NAME\", \"../datasets/movingSquares.csv\", \"CSV\", False)\n",
    "#opt = FileOption(\"FILE\", \"OPT_NAME\", \"../datasets/sea_stream.csv\", \"CSV\", False)\n",
    "stream = FileStream(opt, -1, 1)\n",
    "stream.prepare_for_use()\n",
    "\n",
    "# Setup the classifiers\n",
    "clf_one = HoeffdingTree()\n",
    "clf_two = ADFHoeffdingTree()\n",
    "\n",
    "# Setup the pipeline for clf_one\n",
    "pipe = Pipeline([('Classifier', clf_one)])\n",
    "\n",
    "# Create the list to hold both classifiers\n",
    "classifier = [pipe, clf_two]\n",
    "\n",
    "# Setup the evaluator\n",
    "eval = EvaluatePrequential(pretrain_size=200, max_instances=100000, batch_size=1, max_time=1000, output_file='comparison_Hoeffding_ADFH_Preq.csv', task_type='classification', plot_options=['kappa', 'kappa_t', 'performance'])\n",
    "\n",
    "# Evaluate\n",
    "eval.eval(stream=stream, classifier=classifier)"
   ]
  },
  {
   "cell_type": "code",
   "execution_count": null,
   "metadata": {},
   "outputs": [],
   "source": []
  }
 ],
 "metadata": {
  "kernelspec": {
   "display_name": "Python 3",
   "language": "python",
   "name": "python3"
  },
  "language_info": {
   "codemirror_mode": {
    "name": "ipython",
    "version": 3
   },
   "file_extension": ".py",
   "mimetype": "text/x-python",
   "name": "python",
   "nbconvert_exporter": "python",
   "pygments_lexer": "ipython3",
   "version": "3.6.4"
  }
 },
 "nbformat": 4,
 "nbformat_minor": 2
}
